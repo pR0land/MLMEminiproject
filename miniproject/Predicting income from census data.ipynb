{
 "cells": [
  {
   "cell_type": "markdown",
   "id": "6012d31c488b0f60",
   "metadata": {
    "collapsed": false
   },
   "source": [
    "# Predicting if income is greater than $50k a year"
   ]
  },
  {
   "cell_type": "markdown",
   "id": "e10b078892b7f823",
   "metadata": {
    "collapsed": false
   },
   "source": [
    "## Look at the Big picture\n",
    "The task at hand is to predict whether an individuals annual income is greater than $50k a year.\n",
    "This is a binary classification problem, which means you have to evaluate the model using precision, recall and f score.\n",
    "Currently the models performing the best are Xgboost in terms of accuracy (87.224) and Support Vector Classification in terms of precision (88.032).\n"
   ]
  },
  {
   "cell_type": "markdown",
   "id": "27e01881583e688b",
   "metadata": {
    "collapsed": false
   },
   "source": [
    "## Get the data\n",
    "The data is available from the ucimlrepo, so we will load it in here"
   ]
  },
  {
   "cell_type": "code",
   "execution_count": 4,
   "id": "766c1577-9e81-4655-83b9-3835e32cf3eb",
   "metadata": {
    "ExecuteTime": {
     "end_time": "2024-11-05T09:31:22.923291300Z",
     "start_time": "2024-11-05T09:31:18.889437Z"
    }
   },
   "outputs": [],
   "source": [
    "#import libraries\n",
    "from ucimlrepo import fetch_ucirepo\n",
    "import numpy as np\n",
    "from sklearn.model_selection import train_test_split\n",
    "import matplotlib.pyplot as plt"
   ]
  },
  {
   "cell_type": "code",
   "execution_count": 5,
   "id": "a4af17d22a5519ef",
   "metadata": {
    "collapsed": false,
    "ExecuteTime": {
     "end_time": "2024-11-05T09:31:38.595776600Z",
     "start_time": "2024-11-05T09:31:22.927279200Z"
    }
   },
   "outputs": [
    {
     "name": "stdout",
     "output_type": "stream",
     "text": [
      "              name     role         type      demographic  \\\n",
      "0              age  Feature      Integer              Age   \n",
      "1        workclass  Feature  Categorical           Income   \n",
      "2           fnlwgt  Feature      Integer             None   \n",
      "3        education  Feature  Categorical  Education Level   \n",
      "4    education-num  Feature      Integer  Education Level   \n",
      "5   marital-status  Feature  Categorical            Other   \n",
      "6       occupation  Feature  Categorical            Other   \n",
      "7     relationship  Feature  Categorical            Other   \n",
      "8             race  Feature  Categorical             Race   \n",
      "9              sex  Feature       Binary              Sex   \n",
      "10    capital-gain  Feature      Integer             None   \n",
      "11    capital-loss  Feature      Integer             None   \n",
      "12  hours-per-week  Feature      Integer             None   \n",
      "13  native-country  Feature  Categorical            Other   \n",
      "14          income   Target       Binary           Income   \n",
      "\n",
      "                                          description units missing_values  \n",
      "0                                                 N/A  None             no  \n",
      "1   Private, Self-emp-not-inc, Self-emp-inc, Feder...  None            yes  \n",
      "2                                                None  None             no  \n",
      "3    Bachelors, Some-college, 11th, HS-grad, Prof-...  None             no  \n",
      "4                                                None  None             no  \n",
      "5   Married-civ-spouse, Divorced, Never-married, S...  None             no  \n",
      "6   Tech-support, Craft-repair, Other-service, Sal...  None            yes  \n",
      "7   Wife, Own-child, Husband, Not-in-family, Other...  None             no  \n",
      "8   White, Asian-Pac-Islander, Amer-Indian-Eskimo,...  None             no  \n",
      "9                                       Female, Male.  None             no  \n",
      "10                                               None  None             no  \n",
      "11                                               None  None             no  \n",
      "12                                               None  None             no  \n",
      "13  United-States, Cambodia, England, Puerto-Rico,...  None            yes  \n",
      "14                                       >50K, <=50K.  None             no  \n",
      "There are 48842 datapoints in the set\n"
     ]
    }
   ],
   "source": [
    "# fetch dataset \n",
    "adult = fetch_ucirepo(id=2) \n",
    "\n",
    "# data (as pandas dataframes) \n",
    "data = adult.data.features \n",
    "targets = adult.data.targets \n",
    "  \n",
    "# metadata \n",
    "#print(adult.metadata) \n",
    "  \n",
    "# variable information \n",
    "print(adult.variables) \n",
    "print(f\"There are {len(data)} datapoints in the set\")"
   ]
  },
  {
   "cell_type": "markdown",
   "id": "e0576593-576b-400f-810b-c8b3e642143c",
   "metadata": {},
   "source": [
    "Then we have to split the data into a training and a test set. We do this as early as possible to avoid snooping bias. We use Sickit-Learns split function to do so. We split the data with 80% for training and 20% for test. As this is not the largest dataset, with only 48842 datapoints. We therefore need enough datapoints for testing in the end to make sure the model is generalizable. We set a random_State to make sure the data is split the same every time the code is run."
   ]
  },
  {
   "cell_type": "code",
   "execution_count": 6,
   "id": "e2f034ff-69ab-4ffc-92c9-427dd777b4e2",
   "metadata": {
    "ExecuteTime": {
     "end_time": "2024-11-05T09:31:38.648475900Z",
     "start_time": "2024-11-05T09:31:38.590785300Z"
    }
   },
   "outputs": [],
   "source": [
    "train_data, test_data, train_targets, test_targets = train_test_split(data, targets, test_size=0.2, random_state=42)\n"
   ]
  },
  {
   "cell_type": "markdown",
   "id": "88e2bbf37e26396f",
   "metadata": {
    "collapsed": false
   },
   "source": [
    "## Explore and Visualize the data\n",
    "Now that we have split the dataset, we can start to explore and visualize the data, to gain a better understanding of it.\n",
    "To do this, first we will copy the data, so we can always go back to the original data\n",
    "Then we will look at the different attributes of the data"
   ]
  },
  {
   "cell_type": "code",
   "execution_count": 7,
   "id": "6916a88c-0cf9-43a2-b0ce-5f5d4ecfbfef",
   "metadata": {
    "ExecuteTime": {
     "end_time": "2024-11-05T09:31:38.691039400Z",
     "start_time": "2024-11-05T09:31:38.617555400Z"
    }
   },
   "outputs": [
    {
     "name": "stdout",
     "output_type": "stream",
     "text": [
      "<class 'pandas.core.frame.DataFrame'>\n",
      "Index: 39073 entries, 37193 to 15795\n",
      "Data columns (total 14 columns):\n",
      " #   Column          Non-Null Count  Dtype \n",
      "---  ------          --------------  ----- \n",
      " 0   age             39073 non-null  int64 \n",
      " 1   workclass       38301 non-null  object\n",
      " 2   fnlwgt          39073 non-null  int64 \n",
      " 3   education       39073 non-null  object\n",
      " 4   education-num   39073 non-null  int64 \n",
      " 5   marital-status  39073 non-null  object\n",
      " 6   occupation      38299 non-null  object\n",
      " 7   relationship    39073 non-null  object\n",
      " 8   race            39073 non-null  object\n",
      " 9   sex             39073 non-null  object\n",
      " 10  capital-gain    39073 non-null  int64 \n",
      " 11  capital-loss    39073 non-null  int64 \n",
      " 12  hours-per-week  39073 non-null  int64 \n",
      " 13  native-country  38861 non-null  object\n",
      "dtypes: int64(6), object(8)\n",
      "memory usage: 4.5+ MB\n"
     ]
    }
   ],
   "source": [
    "train_data_copy, train_targets_copy = train_data.copy(), train_targets.copy()\n",
    "train_data_copy.info()"
   ]
  },
  {
   "cell_type": "markdown",
   "id": "0b2b0ddf-b860-4fff-86d8-b565ddfeebb4",
   "metadata": {},
   "source": [
    "We have 8 features which are of object type, and 6 features which are of int64 type.\n",
    "To further explore this, look at the top 5 rows of the dataset."
   ]
  },
  {
   "cell_type": "code",
   "execution_count": 8,
   "id": "54df6b60-51cd-4cc5-bc84-91f357230497",
   "metadata": {
    "ExecuteTime": {
     "end_time": "2024-11-05T09:31:38.745214600Z",
     "start_time": "2024-11-05T09:31:38.667606500Z"
    }
   },
   "outputs": [
    {
     "data": {
      "text/plain": "       age         workclass  fnlwgt education  education-num  \\\n37193   32           Private   50753   HS-grad              9   \n31093   45         State-gov  144351   Masters             14   \n33814   35         Local-gov  252217      12th              8   \n14500   64           Private   69525   HS-grad              9   \n23399   63  Self-emp-not-inc   28612   HS-grad              9   \n\n           marital-status        occupation   relationship   race   sex  \\\n37193  Married-civ-spouse  Transport-moving        Husband  White  Male   \n31093  Married-civ-spouse    Prof-specialty        Husband  White  Male   \n33814  Married-civ-spouse   Farming-fishing        Husband  White  Male   \n14500            Divorced      Craft-repair      Unmarried  White  Male   \n23399             Widowed             Sales  Not-in-family  White  Male   \n\n       capital-gain  capital-loss  hours-per-week native-country  \n37193             0             0              40  United-States  \n31093             0             0              40  United-States  \n33814             0             0              40  United-States  \n14500             0             0              20  United-States  \n23399             0             0              70  United-States  ",
      "text/html": "<div>\n<style scoped>\n    .dataframe tbody tr th:only-of-type {\n        vertical-align: middle;\n    }\n\n    .dataframe tbody tr th {\n        vertical-align: top;\n    }\n\n    .dataframe thead th {\n        text-align: right;\n    }\n</style>\n<table border=\"1\" class=\"dataframe\">\n  <thead>\n    <tr style=\"text-align: right;\">\n      <th></th>\n      <th>age</th>\n      <th>workclass</th>\n      <th>fnlwgt</th>\n      <th>education</th>\n      <th>education-num</th>\n      <th>marital-status</th>\n      <th>occupation</th>\n      <th>relationship</th>\n      <th>race</th>\n      <th>sex</th>\n      <th>capital-gain</th>\n      <th>capital-loss</th>\n      <th>hours-per-week</th>\n      <th>native-country</th>\n    </tr>\n  </thead>\n  <tbody>\n    <tr>\n      <th>37193</th>\n      <td>32</td>\n      <td>Private</td>\n      <td>50753</td>\n      <td>HS-grad</td>\n      <td>9</td>\n      <td>Married-civ-spouse</td>\n      <td>Transport-moving</td>\n      <td>Husband</td>\n      <td>White</td>\n      <td>Male</td>\n      <td>0</td>\n      <td>0</td>\n      <td>40</td>\n      <td>United-States</td>\n    </tr>\n    <tr>\n      <th>31093</th>\n      <td>45</td>\n      <td>State-gov</td>\n      <td>144351</td>\n      <td>Masters</td>\n      <td>14</td>\n      <td>Married-civ-spouse</td>\n      <td>Prof-specialty</td>\n      <td>Husband</td>\n      <td>White</td>\n      <td>Male</td>\n      <td>0</td>\n      <td>0</td>\n      <td>40</td>\n      <td>United-States</td>\n    </tr>\n    <tr>\n      <th>33814</th>\n      <td>35</td>\n      <td>Local-gov</td>\n      <td>252217</td>\n      <td>12th</td>\n      <td>8</td>\n      <td>Married-civ-spouse</td>\n      <td>Farming-fishing</td>\n      <td>Husband</td>\n      <td>White</td>\n      <td>Male</td>\n      <td>0</td>\n      <td>0</td>\n      <td>40</td>\n      <td>United-States</td>\n    </tr>\n    <tr>\n      <th>14500</th>\n      <td>64</td>\n      <td>Private</td>\n      <td>69525</td>\n      <td>HS-grad</td>\n      <td>9</td>\n      <td>Divorced</td>\n      <td>Craft-repair</td>\n      <td>Unmarried</td>\n      <td>White</td>\n      <td>Male</td>\n      <td>0</td>\n      <td>0</td>\n      <td>20</td>\n      <td>United-States</td>\n    </tr>\n    <tr>\n      <th>23399</th>\n      <td>63</td>\n      <td>Self-emp-not-inc</td>\n      <td>28612</td>\n      <td>HS-grad</td>\n      <td>9</td>\n      <td>Widowed</td>\n      <td>Sales</td>\n      <td>Not-in-family</td>\n      <td>White</td>\n      <td>Male</td>\n      <td>0</td>\n      <td>0</td>\n      <td>70</td>\n      <td>United-States</td>\n    </tr>\n  </tbody>\n</table>\n</div>"
     },
     "execution_count": 8,
     "metadata": {},
     "output_type": "execute_result"
    }
   ],
   "source": [
    "train_data_copy.head()"
   ]
  },
  {
   "cell_type": "markdown",
   "id": "09b7b6ec-26c8-4502-a304-3df6e1503f09",
   "metadata": {},
   "source": [
    "Here we see that workclass, education, education-num (we know this from documentation), marital-status, occupation, relationship, race, sex (binary), and native-country are categorical data. Therefore we want to explore which categories there are, and how many are in each category."
   ]
  },
  {
   "cell_type": "code",
   "execution_count": 9,
   "id": "26129329-a557-4f6c-980b-8c4f4acbfc64",
   "metadata": {
    "ExecuteTime": {
     "end_time": "2024-11-05T09:31:38.790855Z",
     "start_time": "2024-11-05T09:31:38.697016500Z"
    }
   },
   "outputs": [
    {
     "name": "stdout",
     "output_type": "stream",
     "text": [
      "workclass\n",
      "Private             27177\n",
      "Self-emp-not-inc     3034\n",
      "Local-gov            2509\n",
      "State-gov            1595\n",
      "?                    1450\n",
      "Self-emp-inc         1378\n",
      "Federal-gov          1132\n",
      "Without-pay            17\n",
      "Never-worked            9\n",
      "Name: count, dtype: int64\n",
      "education\n",
      "HS-grad         12661\n",
      "Some-college     8695\n",
      "Bachelors        6421\n",
      "Masters          2144\n",
      "Assoc-voc        1628\n",
      "11th             1440\n",
      "Assoc-acdm       1269\n",
      "10th             1156\n",
      "7th-8th           739\n",
      "Prof-school       652\n",
      "9th               609\n",
      "12th              527\n",
      "Doctorate         473\n",
      "5th-6th           406\n",
      "1st-4th           189\n",
      "Preschool          64\n",
      "Name: count, dtype: int64\n",
      "education-num\n",
      "9     12661\n",
      "10     8695\n",
      "13     6421\n",
      "14     2144\n",
      "11     1628\n",
      "7      1440\n",
      "12     1269\n",
      "6      1156\n",
      "4       739\n",
      "15      652\n",
      "5       609\n",
      "8       527\n",
      "16      473\n",
      "3       406\n",
      "2       189\n",
      "1        64\n",
      "Name: count, dtype: int64\n",
      "marital-status\n",
      "Married-civ-spouse       17909\n",
      "Never-married            12914\n",
      "Divorced                  5297\n",
      "Separated                 1249\n",
      "Widowed                   1188\n",
      "Married-spouse-absent      487\n",
      "Married-AF-spouse           29\n",
      "Name: count, dtype: int64\n",
      "occupation\n",
      "Prof-specialty       4985\n",
      "Exec-managerial      4853\n",
      "Craft-repair         4833\n",
      "Adm-clerical         4481\n",
      "Sales                4410\n",
      "Other-service        3916\n",
      "Machine-op-inspct    2417\n",
      "Transport-moving     1934\n",
      "Handlers-cleaners    1683\n",
      "?                    1457\n",
      "Farming-fishing      1181\n",
      "Tech-support         1173\n",
      "Protective-serv       777\n",
      "Priv-house-serv       187\n",
      "Armed-Forces           12\n",
      "Name: count, dtype: int64\n",
      "relationship\n",
      "Husband           15748\n",
      "Not-in-family     10067\n",
      "Own-child          6122\n",
      "Unmarried          4059\n",
      "Wife               1897\n",
      "Other-relative     1180\n",
      "Name: count, dtype: int64\n",
      "race\n",
      "White                 33425\n",
      "Black                  3734\n",
      "Asian-Pac-Islander     1201\n",
      "Amer-Indian-Eskimo      374\n",
      "Other                   339\n",
      "Name: count, dtype: int64\n",
      "sex\n",
      "Male      26114\n",
      "Female    12959\n",
      "Name: count, dtype: int64\n",
      "native-country\n",
      "United-States                 35123\n",
      "Mexico                          742\n",
      "?                               465\n",
      "Philippines                     235\n",
      "Germany                         164\n",
      "Puerto-Rico                     152\n",
      "Canada                          151\n",
      "El-Salvador                     119\n",
      "India                           119\n",
      "Cuba                            110\n",
      "China                            96\n",
      "South                            92\n",
      "England                          91\n",
      "Italy                            88\n",
      "Dominican-Republic               82\n",
      "Jamaica                          81\n",
      "Guatemala                        72\n",
      "Poland                           70\n",
      "Japan                            68\n",
      "Columbia                         64\n",
      "Vietnam                          62\n",
      "Haiti                            53\n",
      "Iran                             50\n",
      "Taiwan                           49\n",
      "Portugal                         49\n",
      "Greece                           42\n",
      "Nicaragua                        42\n",
      "Peru                             38\n",
      "Ecuador                          37\n",
      "Ireland                          34\n",
      "France                           27\n",
      "Thailand                         26\n",
      "Hong                             23\n",
      "Trinadad&Tobago                  22\n",
      "Yugoslavia                       21\n",
      "Outlying-US(Guam-USVI-etc)       20\n",
      "Cambodia                         19\n",
      "Laos                             17\n",
      "Scotland                         16\n",
      "Hungary                          16\n",
      "Honduras                         14\n",
      "Name: count, dtype: int64\n"
     ]
    }
   ],
   "source": [
    "def printValueCounts(data,category):\n",
    "    print(data[category].value_counts())\n",
    "printValueCounts(train_data_copy,\"workclass\")\n",
    "printValueCounts(train_data_copy,\"education\")\n",
    "printValueCounts(train_data_copy,\"education-num\")\n",
    "printValueCounts(train_data_copy,\"marital-status\")\n",
    "printValueCounts(train_data_copy,\"occupation\")\n",
    "printValueCounts(train_data_copy,\"relationship\")\n",
    "printValueCounts(train_data_copy,\"race\")\n",
    "printValueCounts(train_data_copy,\"sex\")\n",
    "printValueCounts(train_data_copy,\"native-country\")"
   ]
  },
  {
   "cell_type": "markdown",
   "id": "f1cd10b9-02fa-4c2f-a1b2-4ca2e4614aa5",
   "metadata": {},
   "source": [
    "We also want to look at the other fields."
   ]
  },
  {
   "cell_type": "code",
   "execution_count": 10,
   "id": "403635d4-bcd4-4c6b-9b1f-ebde64bb35b5",
   "metadata": {
    "ExecuteTime": {
     "end_time": "2024-11-05T09:31:38.795839900Z",
     "start_time": "2024-11-05T09:31:38.736235300Z"
    }
   },
   "outputs": [
    {
     "data": {
      "text/plain": "                age        fnlwgt  education-num  capital-gain  capital-loss  \\\ncount  39073.000000  3.907300e+04   39073.000000  39073.000000  39073.000000   \nmean      38.632662  1.900070e+05      10.077675   1091.418038     87.276610   \nstd       13.737816  1.058195e+05       2.565268   7500.039346    402.816969   \nmin       17.000000  1.228500e+04       1.000000      0.000000      0.000000   \n25%       28.000000  1.176830e+05       9.000000      0.000000      0.000000   \n50%       37.000000  1.782720e+05      10.000000      0.000000      0.000000   \n75%       48.000000  2.382460e+05      12.000000      0.000000      0.000000   \nmax       90.000000  1.490400e+06      16.000000  99999.000000   4356.000000   \n\n       hours-per-week  \ncount    39073.000000  \nmean        40.400788  \nstd         12.393669  \nmin          1.000000  \n25%         40.000000  \n50%         40.000000  \n75%         45.000000  \nmax         99.000000  ",
      "text/html": "<div>\n<style scoped>\n    .dataframe tbody tr th:only-of-type {\n        vertical-align: middle;\n    }\n\n    .dataframe tbody tr th {\n        vertical-align: top;\n    }\n\n    .dataframe thead th {\n        text-align: right;\n    }\n</style>\n<table border=\"1\" class=\"dataframe\">\n  <thead>\n    <tr style=\"text-align: right;\">\n      <th></th>\n      <th>age</th>\n      <th>fnlwgt</th>\n      <th>education-num</th>\n      <th>capital-gain</th>\n      <th>capital-loss</th>\n      <th>hours-per-week</th>\n    </tr>\n  </thead>\n  <tbody>\n    <tr>\n      <th>count</th>\n      <td>39073.000000</td>\n      <td>3.907300e+04</td>\n      <td>39073.000000</td>\n      <td>39073.000000</td>\n      <td>39073.000000</td>\n      <td>39073.000000</td>\n    </tr>\n    <tr>\n      <th>mean</th>\n      <td>38.632662</td>\n      <td>1.900070e+05</td>\n      <td>10.077675</td>\n      <td>1091.418038</td>\n      <td>87.276610</td>\n      <td>40.400788</td>\n    </tr>\n    <tr>\n      <th>std</th>\n      <td>13.737816</td>\n      <td>1.058195e+05</td>\n      <td>2.565268</td>\n      <td>7500.039346</td>\n      <td>402.816969</td>\n      <td>12.393669</td>\n    </tr>\n    <tr>\n      <th>min</th>\n      <td>17.000000</td>\n      <td>1.228500e+04</td>\n      <td>1.000000</td>\n      <td>0.000000</td>\n      <td>0.000000</td>\n      <td>1.000000</td>\n    </tr>\n    <tr>\n      <th>25%</th>\n      <td>28.000000</td>\n      <td>1.176830e+05</td>\n      <td>9.000000</td>\n      <td>0.000000</td>\n      <td>0.000000</td>\n      <td>40.000000</td>\n    </tr>\n    <tr>\n      <th>50%</th>\n      <td>37.000000</td>\n      <td>1.782720e+05</td>\n      <td>10.000000</td>\n      <td>0.000000</td>\n      <td>0.000000</td>\n      <td>40.000000</td>\n    </tr>\n    <tr>\n      <th>75%</th>\n      <td>48.000000</td>\n      <td>2.382460e+05</td>\n      <td>12.000000</td>\n      <td>0.000000</td>\n      <td>0.000000</td>\n      <td>45.000000</td>\n    </tr>\n    <tr>\n      <th>max</th>\n      <td>90.000000</td>\n      <td>1.490400e+06</td>\n      <td>16.000000</td>\n      <td>99999.000000</td>\n      <td>4356.000000</td>\n      <td>99.000000</td>\n    </tr>\n  </tbody>\n</table>\n</div>"
     },
     "execution_count": 10,
     "metadata": {},
     "output_type": "execute_result"
    }
   ],
   "source": [
    "train_data_copy.describe()"
   ]
  },
  {
   "cell_type": "markdown",
   "id": "20767cd8-f564-4f73-bb86-56d782ff2fa4",
   "metadata": {},
   "source": [
    "We can also display the data as histograms."
   ]
  },
  {
   "cell_type": "code",
   "execution_count": 12,
   "id": "54d468bb-301b-48a0-a108-b83dbeab23fa",
   "metadata": {
    "ExecuteTime": {
     "end_time": "2024-11-05T09:32:22.989505500Z",
     "start_time": "2024-11-05T09:32:21.990847400Z"
    }
   },
   "outputs": [
    {
     "data": {
      "text/plain": "<Figure size 1200x800 with 6 Axes>",
      "image/png": "[encoded data removed]"
     },
     "metadata": {},
     "output_type": "display_data"
    }
   ],
   "source": [
    "train_data_copy.hist(bins=25, figsize=(12,8))\n",
    "plt.show()"
   ]
  },
  {
   "cell_type": "markdown",
   "id": "5eb8bdd4-c5f5-4b4b-9713-24a3a9205570",
   "metadata": {},
   "source": [
    "As we can see, most of these are fairly well distributed but the fnlwgt, the capital-loss, and the capital-gain, which both features some outliers. We will tackle this later, and see if a standardization might help on the distribution of the fnlwgt.\n",
    "Now it is time to try to explore how the different attributes relates to one another, and how the different attributes relate to the target.\n",
    "We will do this by scatter-plotting the features and colouring the two classes, to see if any clusters appear."
   ]
  },
  {
   "cell_type": "code",
   "outputs": [],
   "source": [],
   "metadata": {
    "collapsed": false,
    "ExecuteTime": {
     "end_time": "2024-11-05T09:31:40.581330900Z",
     "start_time": "2024-11-05T09:31:40.573356300Z"
    }
   },
   "id": "d6277e9f307b5ae5",
   "execution_count": 11
  },
  {
   "cell_type": "markdown",
   "id": "54f9b45282a53cc9",
   "metadata": {
    "collapsed": false
   },
   "source": [
    "## Prepare the data for machine Learning Algorithms"
   ]
  },
  {
   "cell_type": "markdown",
   "id": "95d169eb261570ac",
   "metadata": {
    "collapsed": false
   },
   "source": [
    "## Select and Train a model"
   ]
  },
  {
   "cell_type": "markdown",
   "id": "a97069b9738eeac",
   "metadata": {
    "collapsed": false
   },
   "source": [
    "## Fine-Tune the model"
   ]
  }
 ],
 "metadata": {
  "kernelspec": {
   "display_name": "Python 3 (ipykernel)",
   "language": "python",
   "name": "python3"
  },
  "language_info": {
   "codemirror_mode": {
    "name": "ipython",
    "version": 3
   },
   "file_extension": ".py",
   "mimetype": "text/x-python",
   "name": "python",
   "nbconvert_exporter": "python",
   "pygments_lexer": "ipython3",
   "version": "3.12.3"
  }
 },
 "nbformat": 4,
 "nbformat_minor": 5
}
