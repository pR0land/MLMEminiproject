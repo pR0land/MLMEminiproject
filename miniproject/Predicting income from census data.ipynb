{
 "cells": [
  {
   "cell_type": "markdown",
   "source": [
    "# Predicting if income is greater than $50k a year"
   ],
   "metadata": {
    "collapsed": false
   },
   "id": "6012d31c488b0f60"
  },
  {
   "cell_type": "markdown",
   "source": [
    "## Look at the Big picture"
   ],
   "metadata": {
    "collapsed": false
   },
   "id": "e10b078892b7f823"
  },
  {
   "cell_type": "markdown",
   "source": [
    "## Get the data"
   ],
   "metadata": {
    "collapsed": false
   },
   "id": "27e01881583e688b"
  },
  {
   "cell_type": "code",
   "outputs": [],
   "source": [
    "from ucimlrepo import fetch_ucirepo \n",
    "  \n",
    "# fetch dataset \n",
    "adult = fetch_ucirepo(id=2) \n",
    "  \n",
    "# data (as pandas dataframes) \n",
    "data = adult.data.features \n",
    "targets = adult.data.targets \n",
    "  \n",
    "# metadata \n",
    "print(adult.metadata) \n",
    "  \n",
    "# variable information \n",
    "print(adult.variables) \n"
   ],
   "metadata": {
    "collapsed": false
   },
   "id": "a4af17d22a5519ef",
   "execution_count": null
  },
  {
   "cell_type": "markdown",
   "source": [
    "## Explore and Visualize the data"
   ],
   "metadata": {
    "collapsed": false
   },
   "id": "88e2bbf37e26396f"
  },
  {
   "cell_type": "markdown",
   "source": [
    "## Prepare the data for machine Learning Algorithms"
   ],
   "metadata": {
    "collapsed": false
   },
   "id": "54f9b45282a53cc9"
  },
  {
   "cell_type": "markdown",
   "source": [
    "## Select and Train a model"
   ],
   "metadata": {
    "collapsed": false
   },
   "id": "95d169eb261570ac"
  },
  {
   "cell_type": "markdown",
   "source": [
    "## Fine-Tune the model"
   ],
   "metadata": {
    "collapsed": false
   },
   "id": "a97069b9738eeac"
  },
  {
   "cell_type": "markdown",
   "source": [],
   "metadata": {
    "collapsed": false
   },
   "id": "2421103df11aa6c3"
  }
 ],
 "metadata": {
  "kernelspec": {
   "display_name": "Python 3",
   "language": "python",
   "name": "python3"
  },
  "language_info": {
   "codemirror_mode": {
    "name": "ipython",
    "version": 2
   },
   "file_extension": ".py",
   "mimetype": "text/x-python",
   "name": "python",
   "nbconvert_exporter": "python",
   "pygments_lexer": "ipython2",
   "version": "2.7.6"
  }
 },
 "nbformat": 4,
 "nbformat_minor": 5
}
